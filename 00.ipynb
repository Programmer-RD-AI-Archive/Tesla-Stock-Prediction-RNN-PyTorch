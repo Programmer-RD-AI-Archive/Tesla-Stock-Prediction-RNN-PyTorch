{
 "cells": [
  {
   "cell_type": "code",
   "execution_count": 1,
   "id": "25288616-f2a4-4410-b727-4224074b6c79",
   "metadata": {},
   "outputs": [],
   "source": [
    "import wandb\n",
    "import torch,torchvision\n",
    "import numpy as np\n",
    "import pandas as pd\n",
    "import matplotlib.pyplot as plt\n",
    "from torch.nn import *\n",
    "from torch.optim import *\n",
    "from tqdm import tqdm\n",
    "import cv2\n",
    "device = 'cuda'\n",
    "PROJECT_NAME = 'Tesla-Stock-Prediction'"
   ]
  },
  {
   "cell_type": "code",
   "execution_count": 2,
   "id": "d00bef96-4d64-464f-9e79-6b4ba1723bd8",
   "metadata": {},
   "outputs": [],
   "source": [
    "data = pd.read_csv('./data.csv')"
   ]
  },
  {
   "cell_type": "code",
   "execution_count": 3,
   "id": "3b846244-1435-438b-a1dc-f9ceb38a6f83",
   "metadata": {},
   "outputs": [
    {
     "data": {
      "text/html": [
       "<div>\n",
       "<style scoped>\n",
       "    .dataframe tbody tr th:only-of-type {\n",
       "        vertical-align: middle;\n",
       "    }\n",
       "\n",
       "    .dataframe tbody tr th {\n",
       "        vertical-align: top;\n",
       "    }\n",
       "\n",
       "    .dataframe thead th {\n",
       "        text-align: right;\n",
       "    }\n",
       "</style>\n",
       "<table border=\"1\" class=\"dataframe\">\n",
       "  <thead>\n",
       "    <tr style=\"text-align: right;\">\n",
       "      <th></th>\n",
       "      <th>Date</th>\n",
       "      <th>Open</th>\n",
       "      <th>High</th>\n",
       "      <th>Low</th>\n",
       "      <th>Close</th>\n",
       "      <th>Adj Close</th>\n",
       "      <th>Volume</th>\n",
       "    </tr>\n",
       "  </thead>\n",
       "  <tbody>\n",
       "    <tr>\n",
       "      <th>0</th>\n",
       "      <td>2010-06-29</td>\n",
       "      <td>19.000000</td>\n",
       "      <td>25.00</td>\n",
       "      <td>17.540001</td>\n",
       "      <td>23.889999</td>\n",
       "      <td>23.889999</td>\n",
       "      <td>18766300</td>\n",
       "    </tr>\n",
       "    <tr>\n",
       "      <th>1</th>\n",
       "      <td>2010-06-30</td>\n",
       "      <td>25.790001</td>\n",
       "      <td>30.42</td>\n",
       "      <td>23.299999</td>\n",
       "      <td>23.830000</td>\n",
       "      <td>23.830000</td>\n",
       "      <td>17187100</td>\n",
       "    </tr>\n",
       "    <tr>\n",
       "      <th>2</th>\n",
       "      <td>2010-07-01</td>\n",
       "      <td>25.000000</td>\n",
       "      <td>25.92</td>\n",
       "      <td>20.270000</td>\n",
       "      <td>21.959999</td>\n",
       "      <td>21.959999</td>\n",
       "      <td>8218800</td>\n",
       "    </tr>\n",
       "    <tr>\n",
       "      <th>3</th>\n",
       "      <td>2010-07-02</td>\n",
       "      <td>23.000000</td>\n",
       "      <td>23.10</td>\n",
       "      <td>18.709999</td>\n",
       "      <td>19.200001</td>\n",
       "      <td>19.200001</td>\n",
       "      <td>5139800</td>\n",
       "    </tr>\n",
       "    <tr>\n",
       "      <th>4</th>\n",
       "      <td>2010-07-06</td>\n",
       "      <td>20.000000</td>\n",
       "      <td>20.00</td>\n",
       "      <td>15.830000</td>\n",
       "      <td>16.110001</td>\n",
       "      <td>16.110001</td>\n",
       "      <td>6866900</td>\n",
       "    </tr>\n",
       "  </tbody>\n",
       "</table>\n",
       "</div>"
      ],
      "text/plain": [
       "         Date       Open   High        Low      Close  Adj Close    Volume\n",
       "0  2010-06-29  19.000000  25.00  17.540001  23.889999  23.889999  18766300\n",
       "1  2010-06-30  25.790001  30.42  23.299999  23.830000  23.830000  17187100\n",
       "2  2010-07-01  25.000000  25.92  20.270000  21.959999  21.959999   8218800\n",
       "3  2010-07-02  23.000000  23.10  18.709999  19.200001  19.200001   5139800\n",
       "4  2010-07-06  20.000000  20.00  15.830000  16.110001  16.110001   6866900"
      ]
     },
     "execution_count": 3,
     "metadata": {},
     "output_type": "execute_result"
    }
   ],
   "source": [
    "data.head()"
   ]
  },
  {
   "cell_type": "code",
   "execution_count": 4,
   "id": "72588116-b9ad-4b8a-bed0-283a7ea39809",
   "metadata": {},
   "outputs": [],
   "source": [
    "data = data['High']"
   ]
  },
  {
   "cell_type": "code",
   "execution_count": 5,
   "id": "99caddba-5a44-4683-bc43-7026061accc9",
   "metadata": {},
   "outputs": [],
   "source": [
    "data = torch.from_numpy(np.array(data.tolist()))"
   ]
  },
  {
   "cell_type": "code",
   "execution_count": 6,
   "id": "d13b2687-8d2e-4c3b-959c-4ad2e01723a4",
   "metadata": {},
   "outputs": [],
   "source": [
    "class Model(Module):\n",
    "    def __init__(self,neurons=128):\n",
    "        self.neurons = neurons\n",
    "        self.lstm1 = LSTMCell(1,self.neurons)\n",
    "        self.lstm2 = LSTMCell(self.neurons,self.neurons)\n",
    "        self.linear = Linear(self.neurons,1)\n",
    "    \n",
    "    def forward(self,X,future=0):\n",
    "        outputs = []\n",
    "        batch_size = X.shape[1]\n",
    "        h_t1 = torch.zeros(batch_size,self.neurons,dtype=torch.float32)\n",
    "        c_t1 = torch.zeros(batch_size,self.neurons,dtype=torch.float32)\n",
    "        h_t2 = torch.zeros(batch_size,self.neurons,dtype=torch.float32)\n",
    "        c_t2 = torch.zeros(batch_size,self.neurons,dtype=torch.float32)\n",
    "        h_t1 = h_t1.to(device)\n",
    "        c_t1 = c_t1.to(device)\n",
    "        h_t2 = h_t2.to(device)\n",
    "        c_t2 = c_t2.to(device)\n",
    "        for X_batch in X.split(1,dim=1):\n",
    "            X_batch = X_batch.to(device)\n",
    "            h_t1,c_t1 = self.lstm1(X_batch,(h_t1,c_t1))\n",
    "            h_t1 = h_t1.to(device)\n",
    "            c_t1 = c_t1.to(device)\n",
    "            h_t2,c_t2 = self.lstm2(h_t1,(h_t2,c_t2))\n",
    "            h_t2 = h_t2.to(device)\n",
    "            c_t2 = c_t2.to(device)\n",
    "            pred = self.linear(h_2)\n",
    "            pred = pred.to(device)\n",
    "            outputs.append(pred)\n",
    "        for i in range(future):\n",
    "            h_t1,c_t1 = self.lstm1(X_batch,(h_t1,c_t1))\n",
    "            h_t2,c_t2 = self.lstm2(h_t1,(h_t2,c_t2))\n",
    "            pred = self.linear(h_2)\n",
    "            outputs.append(pred)\n",
    "        outputs = torch.cat(outputs,dim=1)\n",
    "        return outputs"
   ]
  },
  {
   "cell_type": "code",
   "execution_count": 7,
   "id": "eeb59929-4b8a-4363-91b4-28e70ae61e30",
   "metadata": {},
   "outputs": [],
   "source": [
    "data_input = data.view(1,-1)[:1,:-1].to(device).float()\n",
    "data_target = data.view(1,-1)[:1,1:].to(device).float()"
   ]
  },
  {
   "cell_type": "code",
   "execution_count": 8,
   "id": "727e6d70-788b-4778-b0e0-43883552d1ac",
   "metadata": {},
   "outputs": [],
   "source": [
    "model = Model().to(device)\n",
    "criterion = MSELoss()\n",
    "optimizer = LBFGS(model.parameters(),lr=0.8)"
   ]
  },
  {
   "cell_type": "code",
   "execution_count": 9,
   "id": "a600c50a-624d-4d55-adf0-96fbd5d24285",
   "metadata": {},
   "outputs": [],
   "source": [
    "epochs = 100"
   ]
  },
  {
   "cell_type": "code",
   "execution_count": null,
   "id": "1339cba5-17ce-4654-a312-7efcd9f80fe1",
   "metadata": {},
   "outputs": [
    {
     "name": "stderr",
     "output_type": "stream",
     "text": [
      "\u001b[34m\u001b[1mwandb\u001b[0m: Currently logged in as: \u001b[33mranuga-d\u001b[0m (use `wandb login --relogin` to force relogin)\n"
     ]
    },
    {
     "data": {
      "text/html": [
       "\n",
       "                Tracking run with wandb version 0.12.0<br/>\n",
       "                Syncing run <strong style=\"color:#cdcd00\">baseline</strong> to <a href=\"https://wandb.ai\" target=\"_blank\">Weights & Biases</a> <a href=\"https://docs.wandb.com/integrations/jupyter.html\" target=\"_blank\">(Documentation)</a>.<br/>\n",
       "                Project page: <a href=\"https://wandb.ai/ranuga-d/Tesla-Stock-Prediction\" target=\"_blank\">https://wandb.ai/ranuga-d/Tesla-Stock-Prediction</a><br/>\n",
       "                Run page: <a href=\"https://wandb.ai/ranuga-d/Tesla-Stock-Prediction/runs/2pgkilhl\" target=\"_blank\">https://wandb.ai/ranuga-d/Tesla-Stock-Prediction/runs/2pgkilhl</a><br/>\n",
       "                Run data is saved locally in <code>/home/indika/Programming/Projects/Python/Artifical-Intelligence/PyTorch/RNN/Tesla-Stock-Prediction/wandb/run-20210819_194322-2pgkilhl</code><br/><br/>\n",
       "            "
      ],
      "text/plain": [
       "<IPython.core.display.HTML object>"
      ]
     },
     "metadata": {},
     "output_type": "display_data"
    },
    {
     "name": "stderr",
     "output_type": "stream",
     "text": [
      " 54%|█████▍    | 54/100 [32:16<27:37, 36.03s/it]"
     ]
    }
   ],
   "source": [
    "wandb.init(project=PROJECT_NAME,name='baseline')\n",
    "for _ in tqdm(range(epochs)):\n",
    "    def closure():\n",
    "        optimizer.zero_grad()\n",
    "        preds = model(data_input.float())\n",
    "        loss = criterion(preds,data_target)\n",
    "        wandb.log({'loss':loss.item()})\n",
    "        loss.backward()\n",
    "        return loss\n",
    "    optimizer.step(closure)\n",
    "    with torch.no_grad():\n",
    "        future = 100\n",
    "        preds = model(data_input,future)\n",
    "        loss = criterion(preds[:,:-future],data_target)\n",
    "        wandb.log({'loss val':loss.item()})\n",
    "    plt.figure(figsize=(12,6))\n",
    "    n = data_input.shape[1]\n",
    "    def draw(y_i,color):\n",
    "        plt.plot(np.arange(n),data_target.cpu().view(-1),color)\n",
    "        plt.plot(np.arange(n,n+future),y_i[n:].cpu().view(-1),color + ':')\n",
    "    draw(preds[0],'r')\n",
    "    plt.savefig('./preds/img.png')\n",
    "    plt.close()\n",
    "    wandb.log({'Img':wandb.Image(cv2.imread('./preds/img.png'))})"
   ]
  },
  {
   "cell_type": "code",
   "execution_count": null,
   "id": "c7a78673-244c-4732-9c07-4acf6d1ef3f3",
   "metadata": {},
   "outputs": [],
   "source": []
  },
  {
   "cell_type": "code",
   "execution_count": null,
   "id": "7df54ef6-1778-423a-bf03-1bbb3bb7d887",
   "metadata": {},
   "outputs": [],
   "source": [
    "for _ in range(epochs):\n",
    "    def closure():\n",
    "        preds = model(data_input)\n",
    "        loss = criterion(preds,data_target)\n",
    "        loss.backward()\n",
    "        return loss\n",
    "    optimizer.step(closure)\n",
    "    with torch.no_grad():\n",
    "        future = 100\n",
    "        preds = model(data_input,future)\n",
    "        loss = criterion(preds[:,:-future],data_target)\n",
    "        loss.item()\n",
    "    plt.figure(figsize=(12,7))\n",
    "    n = data_input.shape[1]\n",
    "    def draw(y_i,c):\n",
    "        plt.plot(np.arange(n),y_i[:n],'b')\n",
    "        plt.plot(np.arange(n,n+future),y_i[n:],c + '-')\n",
    "    draw(preds,'r')\n",
    "    plt.savefig('./preds/img.png')\n",
    "    wand"
   ]
  }
 ],
 "metadata": {
  "kernelspec": {
   "display_name": "Python 3.7.3 64-bit ('base': conda)",
   "language": "python",
   "name": "python373jvsc74a57bd0210f9608a45c0278a93c9e0b10db32a427986ab48cfc0d20c139811eb78c4bbc"
  },
  "language_info": {
   "codemirror_mode": {
    "name": "ipython",
    "version": 3
   },
   "file_extension": ".py",
   "mimetype": "text/x-python",
   "name": "python",
   "nbconvert_exporter": "python",
   "pygments_lexer": "ipython3",
   "version": "3.7.7"
  }
 },
 "nbformat": 4,
 "nbformat_minor": 5
}
