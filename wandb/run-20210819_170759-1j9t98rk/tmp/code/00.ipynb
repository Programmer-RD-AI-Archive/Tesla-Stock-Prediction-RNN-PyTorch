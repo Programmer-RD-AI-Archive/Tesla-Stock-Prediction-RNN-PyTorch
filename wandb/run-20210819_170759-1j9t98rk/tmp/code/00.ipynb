{
 "cells": [
  {
   "cell_type": "code",
   "execution_count": null,
   "id": "25288616-f2a4-4410-b727-4224074b6c79",
   "metadata": {},
   "outputs": [],
   "source": [
    "import wandb\n",
    "import torch,torchvision\n",
    "import numpy as np\n",
    "import pandas as pd\n",
    "import matplotlib.pyplot as plt\n",
    "from torch.nn import *\n",
    "from torch.optim import *\n",
    "from tqdm import tqdm\n",
    "device = 'cuda'\n",
    "PROJECT_NAME = 'Tesla-Stock-Prediction'"
   ]
  },
  {
   "cell_type": "code",
   "execution_count": null,
   "id": "d00bef96-4d64-464f-9e79-6b4ba1723bd8",
   "metadata": {},
   "outputs": [],
   "source": [
    "data = pd.read_csv('./data.csv')"
   ]
  },
  {
   "cell_type": "code",
   "execution_count": null,
   "id": "3b846244-1435-438b-a1dc-f9ceb38a6f83",
   "metadata": {},
   "outputs": [],
   "source": [
    "data.head()"
   ]
  },
  {
   "cell_type": "code",
   "execution_count": null,
   "id": "72588116-b9ad-4b8a-bed0-283a7ea39809",
   "metadata": {},
   "outputs": [],
   "source": [
    "data = data['High']"
   ]
  },
  {
   "cell_type": "code",
   "execution_count": null,
   "id": "99caddba-5a44-4683-bc43-7026061accc9",
   "metadata": {},
   "outputs": [],
   "source": [
    "data = torch.from_numpy(np.array(data.tolist()))"
   ]
  },
  {
   "cell_type": "code",
   "execution_count": null,
   "id": "d13b2687-8d2e-4c3b-959c-4ad2e01723a4",
   "metadata": {},
   "outputs": [],
   "source": [
    "class Model(Module):\n",
    "    def __init__(self,neurons=64):\n",
    "        super().__init__()\n",
    "        self.neurons = neurons\n",
    "        self.lstm1 = LSTMCell(1,self.neurons).to(device)\n",
    "        self.lstm2 = LSTMCell(self.neurons,self.neurons).to(device)\n",
    "        self.lstm3 = LSTMCell(self.neurons,self.neurons).to(device)\n",
    "        self.linear = Linear(self.neurons,1).to(device)\n",
    "    \n",
    "    def forward(self,X,future=0):\n",
    "        outputs = []\n",
    "        samples = X.shape[0]\n",
    "        h_t1 = torch.zeros(samples,self.neurons,dtype=torch.float32)\n",
    "        c_t1 = torch.zeros(samples,self.neurons,dtype=torch.float32)\n",
    "        h_t2 = torch.zeros(samples,self.neurons,dtype=torch.float32)\n",
    "        c_t2 = torch.zeros(samples,self.neurons,dtype=torch.float32)\n",
    "        h_t3 = torch.zeros(samples,self.neurons,dtype=torch.float32)\n",
    "        c_t3 = torch.zeros(samples,self.neurons,dtype=torch.float32)\n",
    "        for X_batch in X.split(1,dim=1):\n",
    "            h_t1 = h_t1.to(device)\n",
    "            c_t1 = c_t1.to(device)\n",
    "            h_t2 = h_t2.to(device)\n",
    "            c_t2 = c_t2.to(device)\n",
    "            h_t3 = h_t3.to(device)\n",
    "            c_t3 = c_t3.to(device)\n",
    "            X_batch = X_batch.to(device)\n",
    "            h_t1,c_t1 = self.lstm1(X_batch,(h_t1,c_t1))\n",
    "            h_t1 = h_t1.to(device)\n",
    "            c_t1 = c_t1.to(device)\n",
    "            h_t2,c_t2 = self.lstm2(h_t1,(h_t2,c_t2))\n",
    "            h_t2 = h_t2.to(device)\n",
    "            c_t2 = c_t2.to(device)\n",
    "            h_t3,c_t3 = self.lstm3(h_t2,(h_t3,c_t3))\n",
    "            h_t3 = h_t3.to(device)\n",
    "            c_t3 = c_t3.to(device)\n",
    "            preds = self.linear(h_t3)\n",
    "            outputs.append(preds)\n",
    "        for i in range(future):\n",
    "            h_t1,c_t1 = self.lstm1(X_batch,(h_t1,c_t1))\n",
    "            h_t2,c_t2 = self.lstm1(h_t1,(h_t2,c_t2))\n",
    "            h_t3,c_t3 = self.lstm1(h_t2,(h_t3,c_t3))\n",
    "            preds = self.linear(h_t3)\n",
    "            outputs.append(preds)\n",
    "        outputs = torch.cat(outputs,dim=1)\n",
    "        return outputs"
   ]
  },
  {
   "cell_type": "code",
   "execution_count": null,
   "id": "eeb59929-4b8a-4363-91b4-28e70ae61e30",
   "metadata": {},
   "outputs": [],
   "source": [
    "data_input = data.view(1,-1)[:1,:-1].to(device).float()\n",
    "data_target = data.view(1,-1)[:1,1:].to(device).float()"
   ]
  },
  {
   "cell_type": "code",
   "execution_count": null,
   "id": "727e6d70-788b-4778-b0e0-43883552d1ac",
   "metadata": {},
   "outputs": [],
   "source": [
    "model = Model().to(device)\n",
    "criterion = MSELoss()\n",
    "optimizer = LBFGS(model.parameters(),lr=0.8)"
   ]
  },
  {
   "cell_type": "code",
   "execution_count": null,
   "id": "a600c50a-624d-4d55-adf0-96fbd5d24285",
   "metadata": {},
   "outputs": [],
   "source": [
    "epochs = 100"
   ]
  },
  {
   "cell_type": "code",
   "execution_count": null,
   "id": "1339cba5-17ce-4654-a312-7efcd9f80fe1",
   "metadata": {},
   "outputs": [],
   "source": [
    "wandb.init(project=PROJECT_NAME,name='baseline')\n",
    "for _ in range(epochs):\n",
    "    def closure():\n",
    "        optimizer.zero_grad()\n",
    "        preds = model(data_input.float())\n",
    "        loss = criterion(preds,data_target)\n",
    "        wandb.log({'loss':loss.item()})\n",
    "        loss.backward()\n",
    "    optimizer.step(closure)\n",
    "    with torch.no_grad():\n",
    "        preds = model(data_input,100)\n",
    "        loss = criterion(preds[:,:-100],data_target)\n",
    "        wandb.log({'loss val':loss.item()})\n",
    "    plt.figure(figsize=(12,6))\n",
    "    plt.title(f'Step : {i+1}')\n",
    "    n = train_input.shape[1]\n",
    "    def draw(y_i,color):\n",
    "        plt.plot(np.arange(n),y_i[:n],color)\n",
    "        plt.plot(np.arange(n,n+future),y_i[n:],color + ':')\n",
    "    draw(preds[0],'r')\n",
    "    plt.savefig('./preds/predict%d.png'%i)\n",
    "    plt.close()"
   ]
  },
  {
   "cell_type": "code",
   "execution_count": null,
   "id": "c7a78673-244c-4732-9c07-4acf6d1ef3f3",
   "metadata": {},
   "outputs": [],
   "source": []
  }
 ],
 "metadata": {
  "kernelspec": {
   "display_name": "Python 3.7.3 64-bit ('base': conda)",
   "language": "python",
   "name": "python373jvsc74a57bd0210f9608a45c0278a93c9e0b10db32a427986ab48cfc0d20c139811eb78c4bbc"
  },
  "language_info": {
   "codemirror_mode": {
    "name": "ipython",
    "version": 3
   },
   "file_extension": ".py",
   "mimetype": "text/x-python",
   "name": "python",
   "nbconvert_exporter": "python",
   "pygments_lexer": "ipython3",
   "version": "3.7.7"
  }
 },
 "nbformat": 4,
 "nbformat_minor": 5
}
